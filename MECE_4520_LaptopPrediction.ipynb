{
  "nbformat": 4,
  "nbformat_minor": 0,
  "metadata": {
    "colab": {
      "provenance": [],
      "include_colab_link": true
    },
    "kernelspec": {
      "name": "python3",
      "display_name": "Python 3"
    },
    "language_info": {
      "name": "python"
    }
  },
  "cells": [
    {
      "cell_type": "markdown",
      "metadata": {
        "id": "view-in-github",
        "colab_type": "text"
      },
      "source": [
        "<a href=\"https://colab.research.google.com/github/zw2788/MECE4520_project/blob/main/MECE_4520_LaptopPrediction.ipynb\" target=\"_parent\"><img src=\"https://colab.research.google.com/assets/colab-badge.svg\" alt=\"Open In Colab\"/></a>"
      ]
    },
    {
      "cell_type": "markdown",
      "source": [
        "Linear Rregression"
      ],
      "metadata": {
        "id": "vkh2L2Uu5F8d"
      }
    },
    {
      "cell_type": "markdown",
      "source": [],
      "metadata": {
        "id": "PNDlBnhZ7ZYU"
      }
    },
    {
      "cell_type": "markdown",
      "source": [
        "Neural Network"
      ],
      "metadata": {
        "id": "b8kK7qdD7VJx"
      }
    },
    {
      "cell_type": "code",
      "source": [
        "from typing import Tuple\n",
        "%matplotlib inline\n",
        "import matplotlib.pyplot as plt\n",
        "import numpy as np\n",
        "import pandas as pd\n",
        "import seaborn as sns\n",
        "\n",
        "sns.set(font_scale=1.5)\n",
        "sns.set_style(\"whitegrid\", {'grid.linestyle':'--'})\n",
        "\n",
        "import numpy as np\n",
        "import pandas as pd\n",
        "\n",
        "from sklearn.metrics import roc_auc_score\n",
        "from sklearn.model_selection import train_test_split\n",
        "from sklearn.preprocessing import StandardScaler"
      ],
      "metadata": {
        "id": "RsFIOTts8nXe"
      },
      "execution_count": 122,
      "outputs": []
    },
    {
      "cell_type": "code",
      "source": [
        "data = pd.read_csv(\"https://raw.githubusercontent.com/zw2788/MECE4520_project/main/Laptop_Intel1012.csv\")\n",
        "data.head()"
      ],
      "metadata": {
        "colab": {
          "base_uri": "https://localhost:8080/",
          "height": 372
        },
        "id": "bhCeYdIN8z1A",
        "outputId": "e990c512-3442-48f6-cb64-90dd1ed0fcfe"
      },
      "execution_count": 123,
      "outputs": [
        {
          "output_type": "execute_result",
          "data": {
            "text/plain": [
              "   laptop_ID Company             Product            TypeName  Inches  \\\n",
              "0        739    Dell       Inspiron 3567            Notebook    15.6   \n",
              "1        898    Asus  Rog GL753VD-GC082T              Gaming    17.3   \n",
              "2         45    Dell       Inspiron 7773  2 in 1 Convertible    17.3   \n",
              "3        399    Acer            Aspire 5            Notebook    15.6   \n",
              "4        476  Lenovo      Thinkpad T460s           Ultrabook    14.0   \n",
              "\n",
              "                  ScreenResolution                          Cpu  \\\n",
              "0                         1366x768   Intel Core i5 7200U 2.5GHz   \n",
              "1                Full HD 1920x1080  Intel Core i5 7300HQ 2.5GHz   \n",
              "2  Full HD / Touchscreen 1920x1080   Intel Core i5 8250U 1.6GHz   \n",
              "3               IPS Panel 1366x768   Intel Core i5 8250U 1.6GHz   \n",
              "4     IPS Panel Quad HD+ 2560x1440   Intel Core i7 6600U 2.6GHz   \n",
              "\n",
              "   CPU_benchmark   Ram  Ram_benchmark               Memory  Memory_benchmark  \\\n",
              "0           3397  12GB             12              1TB HDD             39.99   \n",
              "1           5092  12GB             12  128GB SSD + 1TB HDD             58.98   \n",
              "2           5901  12GB             12              1TB HDD             39.99   \n",
              "3           5901  12GB             12              1TB HDD             39.99   \n",
              "4           3474  12GB             12            256GB SSD             22.99   \n",
              "\n",
              "                      Gpu  GPU_benchmark       OpSys  Weight  \\\n",
              "0   Intel HD Graphics 520            3.5  Windows 10   2.3kg   \n",
              "1      AMD Radeon R5 M430            3.1  Windows 10  1.90kg   \n",
              "2   Intel HD Graphics 520            3.5  Windows 10  1.86kg   \n",
              "3   Intel HD Graphics 520            3.5  Windows 10   1.2kg   \n",
              "4  Intel HD Graphics 6000            3.9       macOS  1.34kg   \n",
              "\n",
              "   Weight_benchmark  Price_euros  \n",
              "0              2.30       418.64  \n",
              "1              1.90       817.95  \n",
              "2              1.86       469.00  \n",
              "3              1.20      1535.00  \n",
              "4              1.34       898.94  "
            ],
            "text/html": [
              "\n",
              "  <div id=\"df-dc787dc0-d993-45d7-8a1b-9310d745e6a2\">\n",
              "    <div class=\"colab-df-container\">\n",
              "      <div>\n",
              "<style scoped>\n",
              "    .dataframe tbody tr th:only-of-type {\n",
              "        vertical-align: middle;\n",
              "    }\n",
              "\n",
              "    .dataframe tbody tr th {\n",
              "        vertical-align: top;\n",
              "    }\n",
              "\n",
              "    .dataframe thead th {\n",
              "        text-align: right;\n",
              "    }\n",
              "</style>\n",
              "<table border=\"1\" class=\"dataframe\">\n",
              "  <thead>\n",
              "    <tr style=\"text-align: right;\">\n",
              "      <th></th>\n",
              "      <th>laptop_ID</th>\n",
              "      <th>Company</th>\n",
              "      <th>Product</th>\n",
              "      <th>TypeName</th>\n",
              "      <th>Inches</th>\n",
              "      <th>ScreenResolution</th>\n",
              "      <th>Cpu</th>\n",
              "      <th>CPU_benchmark</th>\n",
              "      <th>Ram</th>\n",
              "      <th>Ram_benchmark</th>\n",
              "      <th>Memory</th>\n",
              "      <th>Memory_benchmark</th>\n",
              "      <th>Gpu</th>\n",
              "      <th>GPU_benchmark</th>\n",
              "      <th>OpSys</th>\n",
              "      <th>Weight</th>\n",
              "      <th>Weight_benchmark</th>\n",
              "      <th>Price_euros</th>\n",
              "    </tr>\n",
              "  </thead>\n",
              "  <tbody>\n",
              "    <tr>\n",
              "      <th>0</th>\n",
              "      <td>739</td>\n",
              "      <td>Dell</td>\n",
              "      <td>Inspiron 3567</td>\n",
              "      <td>Notebook</td>\n",
              "      <td>15.6</td>\n",
              "      <td>1366x768</td>\n",
              "      <td>Intel Core i5 7200U 2.5GHz</td>\n",
              "      <td>3397</td>\n",
              "      <td>12GB</td>\n",
              "      <td>12</td>\n",
              "      <td>1TB HDD</td>\n",
              "      <td>39.99</td>\n",
              "      <td>Intel HD Graphics 520</td>\n",
              "      <td>3.5</td>\n",
              "      <td>Windows 10</td>\n",
              "      <td>2.3kg</td>\n",
              "      <td>2.30</td>\n",
              "      <td>418.64</td>\n",
              "    </tr>\n",
              "    <tr>\n",
              "      <th>1</th>\n",
              "      <td>898</td>\n",
              "      <td>Asus</td>\n",
              "      <td>Rog GL753VD-GC082T</td>\n",
              "      <td>Gaming</td>\n",
              "      <td>17.3</td>\n",
              "      <td>Full HD 1920x1080</td>\n",
              "      <td>Intel Core i5 7300HQ 2.5GHz</td>\n",
              "      <td>5092</td>\n",
              "      <td>12GB</td>\n",
              "      <td>12</td>\n",
              "      <td>128GB SSD + 1TB HDD</td>\n",
              "      <td>58.98</td>\n",
              "      <td>AMD Radeon R5 M430</td>\n",
              "      <td>3.1</td>\n",
              "      <td>Windows 10</td>\n",
              "      <td>1.90kg</td>\n",
              "      <td>1.90</td>\n",
              "      <td>817.95</td>\n",
              "    </tr>\n",
              "    <tr>\n",
              "      <th>2</th>\n",
              "      <td>45</td>\n",
              "      <td>Dell</td>\n",
              "      <td>Inspiron 7773</td>\n",
              "      <td>2 in 1 Convertible</td>\n",
              "      <td>17.3</td>\n",
              "      <td>Full HD / Touchscreen 1920x1080</td>\n",
              "      <td>Intel Core i5 8250U 1.6GHz</td>\n",
              "      <td>5901</td>\n",
              "      <td>12GB</td>\n",
              "      <td>12</td>\n",
              "      <td>1TB HDD</td>\n",
              "      <td>39.99</td>\n",
              "      <td>Intel HD Graphics 520</td>\n",
              "      <td>3.5</td>\n",
              "      <td>Windows 10</td>\n",
              "      <td>1.86kg</td>\n",
              "      <td>1.86</td>\n",
              "      <td>469.00</td>\n",
              "    </tr>\n",
              "    <tr>\n",
              "      <th>3</th>\n",
              "      <td>399</td>\n",
              "      <td>Acer</td>\n",
              "      <td>Aspire 5</td>\n",
              "      <td>Notebook</td>\n",
              "      <td>15.6</td>\n",
              "      <td>IPS Panel 1366x768</td>\n",
              "      <td>Intel Core i5 8250U 1.6GHz</td>\n",
              "      <td>5901</td>\n",
              "      <td>12GB</td>\n",
              "      <td>12</td>\n",
              "      <td>1TB HDD</td>\n",
              "      <td>39.99</td>\n",
              "      <td>Intel HD Graphics 520</td>\n",
              "      <td>3.5</td>\n",
              "      <td>Windows 10</td>\n",
              "      <td>1.2kg</td>\n",
              "      <td>1.20</td>\n",
              "      <td>1535.00</td>\n",
              "    </tr>\n",
              "    <tr>\n",
              "      <th>4</th>\n",
              "      <td>476</td>\n",
              "      <td>Lenovo</td>\n",
              "      <td>Thinkpad T460s</td>\n",
              "      <td>Ultrabook</td>\n",
              "      <td>14.0</td>\n",
              "      <td>IPS Panel Quad HD+ 2560x1440</td>\n",
              "      <td>Intel Core i7 6600U 2.6GHz</td>\n",
              "      <td>3474</td>\n",
              "      <td>12GB</td>\n",
              "      <td>12</td>\n",
              "      <td>256GB SSD</td>\n",
              "      <td>22.99</td>\n",
              "      <td>Intel HD Graphics 6000</td>\n",
              "      <td>3.9</td>\n",
              "      <td>macOS</td>\n",
              "      <td>1.34kg</td>\n",
              "      <td>1.34</td>\n",
              "      <td>898.94</td>\n",
              "    </tr>\n",
              "  </tbody>\n",
              "</table>\n",
              "</div>\n",
              "      <button class=\"colab-df-convert\" onclick=\"convertToInteractive('df-dc787dc0-d993-45d7-8a1b-9310d745e6a2')\"\n",
              "              title=\"Convert this dataframe to an interactive table.\"\n",
              "              style=\"display:none;\">\n",
              "        \n",
              "  <svg xmlns=\"http://www.w3.org/2000/svg\" height=\"24px\"viewBox=\"0 0 24 24\"\n",
              "       width=\"24px\">\n",
              "    <path d=\"M0 0h24v24H0V0z\" fill=\"none\"/>\n",
              "    <path d=\"M18.56 5.44l.94 2.06.94-2.06 2.06-.94-2.06-.94-.94-2.06-.94 2.06-2.06.94zm-11 1L8.5 8.5l.94-2.06 2.06-.94-2.06-.94L8.5 2.5l-.94 2.06-2.06.94zm10 10l.94 2.06.94-2.06 2.06-.94-2.06-.94-.94-2.06-.94 2.06-2.06.94z\"/><path d=\"M17.41 7.96l-1.37-1.37c-.4-.4-.92-.59-1.43-.59-.52 0-1.04.2-1.43.59L10.3 9.45l-7.72 7.72c-.78.78-.78 2.05 0 2.83L4 21.41c.39.39.9.59 1.41.59.51 0 1.02-.2 1.41-.59l7.78-7.78 2.81-2.81c.8-.78.8-2.07 0-2.86zM5.41 20L4 18.59l7.72-7.72 1.47 1.35L5.41 20z\"/>\n",
              "  </svg>\n",
              "      </button>\n",
              "      \n",
              "  <style>\n",
              "    .colab-df-container {\n",
              "      display:flex;\n",
              "      flex-wrap:wrap;\n",
              "      gap: 12px;\n",
              "    }\n",
              "\n",
              "    .colab-df-convert {\n",
              "      background-color: #E8F0FE;\n",
              "      border: none;\n",
              "      border-radius: 50%;\n",
              "      cursor: pointer;\n",
              "      display: none;\n",
              "      fill: #1967D2;\n",
              "      height: 32px;\n",
              "      padding: 0 0 0 0;\n",
              "      width: 32px;\n",
              "    }\n",
              "\n",
              "    .colab-df-convert:hover {\n",
              "      background-color: #E2EBFA;\n",
              "      box-shadow: 0px 1px 2px rgba(60, 64, 67, 0.3), 0px 1px 3px 1px rgba(60, 64, 67, 0.15);\n",
              "      fill: #174EA6;\n",
              "    }\n",
              "\n",
              "    [theme=dark] .colab-df-convert {\n",
              "      background-color: #3B4455;\n",
              "      fill: #D2E3FC;\n",
              "    }\n",
              "\n",
              "    [theme=dark] .colab-df-convert:hover {\n",
              "      background-color: #434B5C;\n",
              "      box-shadow: 0px 1px 3px 1px rgba(0, 0, 0, 0.15);\n",
              "      filter: drop-shadow(0px 1px 2px rgba(0, 0, 0, 0.3));\n",
              "      fill: #FFFFFF;\n",
              "    }\n",
              "  </style>\n",
              "\n",
              "      <script>\n",
              "        const buttonEl =\n",
              "          document.querySelector('#df-dc787dc0-d993-45d7-8a1b-9310d745e6a2 button.colab-df-convert');\n",
              "        buttonEl.style.display =\n",
              "          google.colab.kernel.accessAllowed ? 'block' : 'none';\n",
              "\n",
              "        async function convertToInteractive(key) {\n",
              "          const element = document.querySelector('#df-dc787dc0-d993-45d7-8a1b-9310d745e6a2');\n",
              "          const dataTable =\n",
              "            await google.colab.kernel.invokeFunction('convertToInteractive',\n",
              "                                                     [key], {});\n",
              "          if (!dataTable) return;\n",
              "\n",
              "          const docLinkHtml = 'Like what you see? Visit the ' +\n",
              "            '<a target=\"_blank\" href=https://colab.research.google.com/notebooks/data_table.ipynb>data table notebook</a>'\n",
              "            + ' to learn more about interactive tables.';\n",
              "          element.innerHTML = '';\n",
              "          dataTable['output_type'] = 'display_data';\n",
              "          await google.colab.output.renderOutput(dataTable, element);\n",
              "          const docLink = document.createElement('div');\n",
              "          docLink.innerHTML = docLinkHtml;\n",
              "          element.appendChild(docLink);\n",
              "        }\n",
              "      </script>\n",
              "    </div>\n",
              "  </div>\n",
              "  "
            ]
          },
          "metadata": {},
          "execution_count": 123
        }
      ]
    },
    {
      "cell_type": "code",
      "source": [
        "features = [\n",
        "    \"GPU_benchmark\",\n",
        "    \"Memory_benchmark\",\n",
        "    \"CPU_benchmark\",\n",
        "    \"Weight_benchmark\",\n",
        "    \"Ram_benchmark\"\n",
        "\n",
        "]\n",
        "label = \"Price_euros\"\n",
        "\n",
        "# train test split\n",
        "X_raw, X_raw_test, Y, Y_test = train_test_split(data[features].values, data[label].values, test_size=0.2, random_state=42)\n",
        "\n",
        "\n",
        "# Standardize the input\n",
        "scaler = StandardScaler()\n",
        "scaler.fit(X_raw)\n",
        "X = scaler.transform(X_raw)\n",
        "X_test = scaler.transform(X_raw_test)\n",
        "\n",
        "# formatting\n",
        "Y = Y.reshape((-1, 1))\n",
        "Y_test = Y_test.reshape((-1, 1))"
      ],
      "metadata": {
        "id": "cDubXjj982Zt"
      },
      "execution_count": 124,
      "outputs": []
    },
    {
      "cell_type": "code",
      "source": [
        "fig = plt.figure(figsize=(16,6))\n",
        "axes = fig.add_subplot(1, 1, 1)\n",
        "axes.plot(X, Y, 'ro')\n",
        "axes.set_xlabel('x')\n",
        "axes.set_ylabel('u_ture')\n",
        "axes.grid()"
      ],
      "metadata": {
        "colab": {
          "base_uri": "https://localhost:8080/",
          "height": 407
        },
        "id": "rfca_878MG8w",
        "outputId": "e807d47d-ab8a-40d0-a48d-0dccaa0da7d2"
      },
      "execution_count": 125,
      "outputs": [
        {
          "output_type": "display_data",
          "data": {
            "text/plain": [
              "<Figure size 1152x432 with 1 Axes>"
            ],
            "image/png": "[encoded data removed]"
          },
          "metadata": {}
        }
      ]
    },
    {
      "cell_type": "code",
      "source": [
        "import tensorflow as tf\n",
        "from tensorflow.keras import Sequential\n",
        "from tensorflow.keras.layers import Dense\n",
        "from tensorflow.keras.losses import MeanSquaredError\n",
        "from tensorflow.keras.losses import MeanAbsoluteError\n",
        "from tensorflow.keras.layers import Dense, Dropout\n",
        "from tensorflow.keras.optimizers import Adam\n",
        "\n",
        "\n",
        "model=Sequential([\n",
        "    Dense(units=80,kernel_initializer='normal',activation='relu'),\n",
        "    Dropout(0.2),\n",
        "    Dense(units=20,kernel_initializer='normal',activation='relu'),\n",
        "    Dropout(0.2),\n",
        "    Dense(units=5,kernel_initializer='normal',activation='relu'),\n",
        "    Dropout(0.2),\n",
        "    Dense(units=1,kernel_initializer='normal',activation='linear'),\n",
        "])\n",
        "\n",
        "model.compile(\n",
        "    optimizer=Adam(learning_rate=0.01),\n",
        "    loss=\"mse\",\n",
        "    metrics=[\"mse\"])\n",
        "\n",
        "history = model.fit(\n",
        "    x=X,\n",
        "    y=Y,\n",
        "    batch_size=32,\n",
        "    epochs=20,\n",
        "    validation_data=(X_test, Y_test),\n",
        "    verbose=1,\n",
        "    shuffle=True,\n",
        ")"
      ],
      "metadata": {
        "colab": {
          "base_uri": "https://localhost:8080/"
        },
        "id": "ZhAK-_kPR9dE",
        "outputId": "9e3d4dc2-e776-45c4-cf05-2a17cb56dd17"
      },
      "execution_count": 126,
      "outputs": [
        {
          "output_type": "stream",
          "name": "stdout",
          "text": [
            "Epoch 1/20\n",
            "26/26 [==============================] - 1s 9ms/step - loss: 1721904.3750 - mse: 1721904.3750 - val_loss: 1778211.2500 - val_mse: 1778211.2500\n",
            "Epoch 2/20\n",
            "26/26 [==============================] - 0s 3ms/step - loss: 1452305.3750 - mse: 1452305.3750 - val_loss: 847482.1875 - val_mse: 847482.1875\n",
            "Epoch 3/20\n",
            "26/26 [==============================] - 0s 5ms/step - loss: 581362.1250 - mse: 581362.1250 - val_loss: 337994.9688 - val_mse: 337994.9688\n",
            "Epoch 4/20\n",
            "26/26 [==============================] - 0s 4ms/step - loss: 439439.8750 - mse: 439439.8750 - val_loss: 272222.8125 - val_mse: 272222.8125\n",
            "Epoch 5/20\n",
            "26/26 [==============================] - 0s 4ms/step - loss: 396784.2500 - mse: 396784.2500 - val_loss: 255336.2812 - val_mse: 255336.2812\n",
            "Epoch 6/20\n",
            "26/26 [==============================] - 0s 4ms/step - loss: 435298.4062 - mse: 435298.4062 - val_loss: 256101.9531 - val_mse: 256101.9531\n",
            "Epoch 7/20\n",
            "26/26 [==============================] - 0s 9ms/step - loss: 424996.8750 - mse: 424996.8750 - val_loss: 230939.2500 - val_mse: 230939.2500\n",
            "Epoch 8/20\n",
            "26/26 [==============================] - 0s 8ms/step - loss: 388727.2188 - mse: 388727.2188 - val_loss: 224089.8750 - val_mse: 224089.8750\n",
            "Epoch 9/20\n",
            "26/26 [==============================] - 0s 9ms/step - loss: 385629.4688 - mse: 385629.4688 - val_loss: 215246.5000 - val_mse: 215246.5000\n",
            "Epoch 10/20\n",
            "26/26 [==============================] - 0s 11ms/step - loss: 373340.6875 - mse: 373340.6875 - val_loss: 229657.7500 - val_mse: 229657.7500\n",
            "Epoch 11/20\n",
            "26/26 [==============================] - 0s 13ms/step - loss: 402657.2812 - mse: 402657.2812 - val_loss: 242687.2500 - val_mse: 242687.2500\n",
            "Epoch 12/20\n",
            "26/26 [==============================] - 0s 13ms/step - loss: 381622.0312 - mse: 381622.0312 - val_loss: 208603.3281 - val_mse: 208603.3281\n",
            "Epoch 13/20\n",
            "26/26 [==============================] - 0s 11ms/step - loss: 392991.6562 - mse: 392991.6562 - val_loss: 214860.5312 - val_mse: 214860.5312\n",
            "Epoch 14/20\n",
            "26/26 [==============================] - 0s 15ms/step - loss: 423950.4375 - mse: 423950.4375 - val_loss: 236410.4844 - val_mse: 236410.4844\n",
            "Epoch 15/20\n",
            "26/26 [==============================] - 0s 11ms/step - loss: 370798.3438 - mse: 370798.3438 - val_loss: 235114.6406 - val_mse: 235114.6406\n",
            "Epoch 16/20\n",
            "26/26 [==============================] - 0s 8ms/step - loss: 419354.6250 - mse: 419354.6250 - val_loss: 246278.8125 - val_mse: 246278.8125\n",
            "Epoch 17/20\n",
            "26/26 [==============================] - 0s 7ms/step - loss: 370353.8438 - mse: 370353.8438 - val_loss: 210188.3281 - val_mse: 210188.3281\n",
            "Epoch 18/20\n",
            "26/26 [==============================] - 0s 9ms/step - loss: 392053.4062 - mse: 392053.4062 - val_loss: 231509.6875 - val_mse: 231509.6875\n",
            "Epoch 19/20\n",
            "26/26 [==============================] - 0s 12ms/step - loss: 392249.7812 - mse: 392249.7812 - val_loss: 200861.9688 - val_mse: 200861.9688\n",
            "Epoch 20/20\n",
            "26/26 [==============================] - 0s 9ms/step - loss: 394619.3750 - mse: 394619.3750 - val_loss: 211583.2344 - val_mse: 211583.2344\n"
          ]
        }
      ]
    },
    {
      "cell_type": "code",
      "source": [
        "def plot_history(history, key):\n",
        "  plt.plot(history.history[key])\n",
        "  plt.plot(history.history['val_'+key])\n",
        "  plt.xlabel(\"Epochs\")\n",
        "  plt.ylabel(key)\n",
        "  plt.legend([key, 'val_'+key])\n",
        "  plt.show()\n",
        "# Plot the history\n",
        "plot_history(history, 'mse')"
      ],
      "metadata": {
        "id": "FzKJwk8A7Gzk",
        "colab": {
          "base_uri": "https://localhost:8080/",
          "height": 315
        },
        "outputId": "7ab801a4-108f-4283-9273-b0f3e0766804"
      },
      "execution_count": 127,
      "outputs": [
        {
          "output_type": "display_data",
          "data": {
            "text/plain": [
              "<Figure size 432x288 with 1 Axes>"
            ],
            "image/png": "[encoded data removed]"
          },
          "metadata": {}
        }
      ]
    },
    {
      "cell_type": "code",
      "source": [
        "yhat= model.predict(X_test)"
      ],
      "metadata": {
        "colab": {
          "base_uri": "https://localhost:8080/"
        },
        "id": "CC1hCbmVLqrO",
        "outputId": "1633d93d-320e-490e-ba40-dc65e40fa9dd"
      },
      "execution_count": 128,
      "outputs": [
        {
          "output_type": "stream",
          "name": "stdout",
          "text": [
            "7/7 [==============================] - 0s 4ms/step\n"
          ]
        }
      ]
    },
    {
      "cell_type": "code",
      "source": [
        "r2 = np.power(yhat - np.mean(Y_test), 2).sum() / np.power(Y_test - np.mean(Y_test), 2).sum()\n",
        "r2"
      ],
      "metadata": {
        "id": "eYwPDine8wMx",
        "colab": {
          "base_uri": "https://localhost:8080/"
        },
        "outputId": "ac7a748e-24cc-44f1-b4e8-9569729e5dc3"
      },
      "execution_count": 129,
      "outputs": [
        {
          "output_type": "execute_result",
          "data": {
            "text/plain": [
              "0.5148546035216464"
            ]
          },
          "metadata": {},
          "execution_count": 129
        }
      ]
    },
    {
      "cell_type": "code",
      "source": [],
      "metadata": {
        "id": "DXo4KSvI8pW2"
      },
      "execution_count": 129,
      "outputs": []
    },
    {
      "cell_type": "code",
      "source": [],
      "metadata": {
        "id": "7rgvIayfBb85"
      },
      "execution_count": 129,
      "outputs": []
    }
  ]
}